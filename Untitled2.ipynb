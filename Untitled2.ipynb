{
  "nbformat": 4,
  "nbformat_minor": 0,
  "metadata": {
    "colab": {
      "provenance": []
    },
    "kernelspec": {
      "name": "python3",
      "display_name": "Python 3"
    },
    "language_info": {
      "name": "python"
    }
  },
  "cells": [
    {
      "cell_type": "markdown",
      "source": [
        "# Statistics Advance Part 1\n",
        "\n",
        "\n",
        "Q1=> What is a random variable in probability theory?\n",
        "\n",
        "ans=>A function that assigns numerical values to outcomes of a random experiment.\n",
        "\n",
        "Q2=> What are the types of random variables?\n",
        "\n",
        "ans=>Discrete (countable values) and Continuous (uncountable, real values).\n",
        "\n",
        "Q3=> What is the difference between discrete and continuous distributions?\n",
        "\n",
        "ans= Discrete distributions have countable outcomes, while continuous distributions have uncountable values within a range.\n",
        "\n",
        "\n",
        "Q4=> What are probability distribution functions (PDF)?\n",
        "\n",
        "ans=> Describes the likelihood of a random variable taking specific values.\n",
        "\n",
        "\n",
        "Q5=> How do cumulative distribution functions (CDF) differ from probability distribution functions (PDF)?\n",
        "\n",
        "ans=>The CDF gives the probability that a random variable is ≤ a certain value, while the PDF shows probability density at a point.\n",
        "\n",
        "\n",
        "Q6=> What is a discrete uniform distribution?\n",
        "\n",
        "ans=>A distribution where all possible discrete outcomes are equally likely.\n",
        "\n",
        "\n",
        "Q7=> What are the key properties of a Bernoulli distribution?\n",
        "\n",
        "ans=>Binary outcomes (0 or 1), one trial, parameterized by success probability p.\n",
        "\n",
        "Q8=> What is the binomial distribution, and how is it used in probability?\n",
        "\n",
        "ans=>Models the number of successes in  𝑛 independent Bernoulli trials.\n",
        "\n",
        "Q9=> What is the Poisson distribution and where is it applied?\n",
        "\n",
        "ans=>Models the number of events occurring in a fixed interval with a constant mean rate.\n",
        "\n",
        "\n",
        "Q10=> What is a continuous uniform distribution?\n",
        "\n",
        "ans=>A distribution where all values in an interval are equally likely.\n",
        "\n",
        "\n",
        "Q11=> What are the characteristics of a normal distribution?\n",
        "\n",
        "ans=> A symmetric, bell-shaped distribution defined by mean 𝜇 and standard deviation 𝜎\n",
        "\n",
        "Q12=> What is the standard normal distribution, and why is it important?\n",
        "\n",
        "ans=> A normal distribution with mean 0 and standard deviation 1, used for Z-scores.\n",
        "\n",
        "\n",
        "Q13=> What is the Central Limit Theorem (CLT), and why is it critical in statistics?\n",
        "\n",
        "ans=>States that the sample mean of a large sample approximates a normal distribution, regardless of population distribution.\n",
        "\n",
        "\n",
        "Q14=> How does the Central Limit Theorem relate to the normal distribution?\n",
        "\n",
        "ans=>The CLT justifies the normal approximation for sample means, enabling inferential statistics.\n",
        "\n",
        "\n",
        "Q15=> What is the application of Z statistics in hypothesis testing?\n",
        "\n",
        "ans=> Used to test population means when the population standard deviation is known.\n",
        "\n",
        "\n",
        "Q16=> How do you calculate a Z-score, and what does it represent?\n",
        "\n",
        "ans=> Z=x-𝜇/σ, measuring how far a value is from the mean in standard deviations.\n",
        "\n",
        "\n",
        "Q17=> What are point estimates and interval estimates in statistics?\n",
        "\n",
        "ans=>: Point estimates give a single value, while interval estimates provide a range with confidence.\n",
        "\n",
        "\n",
        "Q18=> What is the significance of confidence intervals in statistical analysis?\n",
        "\n",
        "ans=>Provide a range within which a population parameter likely falls with a given probability.\n",
        "\n",
        "\n",
        "Q19=> What is the relationship between a Z-score and a confidence interval?\n",
        "\n",
        "ans=> Z-scores help determine critical values for confidence intervals in normal distributions.\n",
        "\n",
        "\n",
        "Q20=> How are Z-scores used to compare different distributions?\n",
        "\n",
        "ans=>Standardizes values from different distributions for meaningful comparison.\n",
        "\n",
        "\n",
        "Q21=> What are the assumptions for applying the Central Limit Theorem?\n",
        "\n",
        "ans=>Independent, identically distributed (i.i.d.) samples, finite variance, and sufficiently large sample size.\n",
        "\n",
        "\n",
        "Q22=> What is the concept of expected value in a probability distribution?\n",
        "\n",
        "ans=>The weighted average of all possible values of a random variable.\n",
        "\n",
        "\n",
        "Q23=> How does a probability distribution relate to the expected outcome of a random variable?\n",
        "\n",
        "ans=>The expected value represents the mean outcome of a probability distribution over many trials."
      ],
      "metadata": {
        "id": "b06mDAWkR5U0"
      }
    },
    {
      "cell_type": "code",
      "execution_count": null,
      "metadata": {
        "id": "TuSRYjX4MrjK"
      },
      "outputs": [],
      "source": [
        "# Q1=> Write a Python program to generate a random variable and display its value>\n",
        "\n",
        "import random\n",
        "print(random.random())\n"
      ]
    },
    {
      "cell_type": "code",
      "source": [
        "\n",
        "# Q2=> Generate a discrete uniform distribution using Python and plot the probability mass function (PMF)>\n",
        "\n",
        "import numpy as np\n",
        "matplotlib.pyplot as plt\n",
        "scipy.stats as stats\n",
        "data = np.random.randint(1, 7, 1000)\n",
        "pmf = [np.sum(data == i) / len(data) for i in range(1, 7)]\n",
        "plt.bar(range(1, 7), pmf); plt.show()\n",
        "\n",
        "\n"
      ],
      "metadata": {
        "id": "Wb_tYuIjZaLr"
      },
      "execution_count": null,
      "outputs": []
    },
    {
      "cell_type": "code",
      "source": [
        "\n",
        "# Q3=> Write a Python function to calculate the probability distribution function (PDF) of a Bernoulli distribution>\n",
        "def bernoulli_pdf(p, x): return p**x * (1 - p)**(1 - x)\n",
        "print(bernoulli_pdf(0.5, 1))\n",
        "\n"
      ],
      "metadata": {
        "id": "tqIUpxupZYkW"
      },
      "execution_count": null,
      "outputs": []
    },
    {
      "cell_type": "code",
      "source": [
        "# Q4=> Write a Python script to simulate a binomial distribution with n=10 and p=0.5, then plot its histogram>\n",
        "\n",
        "binom_data = np.random.binomial(10, 0.5, 1000)\n",
        "plt.hist(binom_data, bins=11, density=True); plt.show()\n",
        "\n"
      ],
      "metadata": {
        "id": "euJnCzrTZW5Z"
      },
      "execution_count": null,
      "outputs": []
    },
    {
      "cell_type": "code",
      "source": [
        "# Q5=> Create a Poisson distribution and visualize it using Python>\n",
        "\n",
        "\n",
        "poisson_data = np.random.poisson(3, 1000)\n",
        "plt.hist(poisson_data, bins=15, density=True); plt.show()\n",
        "\n",
        "\n",
        "\n"
      ],
      "metadata": {
        "id": "s27086h3ZVIl"
      },
      "execution_count": null,
      "outputs": []
    },
    {
      "cell_type": "code",
      "source": [
        "# Q6=> Write a Python program to calculate and plot the cumulative distribution function (CDF) of a discrete\n",
        "# uniform distribution>\n",
        "\n",
        "\n",
        "uniform_cdf = stats.randint.cdf(range(1, 7), 1, 7)\n",
        "plt.step(range(1, 7), uniform_cdf); plt.show()\n",
        "\n",
        "\n"
      ],
      "metadata": {
        "id": "P0Vjoxf6ZTNs"
      },
      "execution_count": null,
      "outputs": []
    },
    {
      "cell_type": "code",
      "source": [
        "# Q7=> Generate a continuous uniform distribution using NumPy and visualize it>\n",
        "\n",
        "uniform_data = np.random.uniform(0, 1, 1000)\n",
        "plt.hist(uniform_data, bins=20, density=True); plt.show()\n"
      ],
      "metadata": {
        "id": "sup_a8vxZQ5b"
      },
      "execution_count": null,
      "outputs": []
    },
    {
      "cell_type": "code",
      "source": [
        "\n",
        "# Q8=> Simulate data from a normal distribution and plot its histogram>\n",
        "\n",
        "\n",
        "normal_data = np.random.normal(0, 1, 1000)\n",
        "plt.hist(normal_data, bins=30, density=True); plt.show()\n",
        "\n"
      ],
      "metadata": {
        "id": "_4A64WK9ZOiT"
      },
      "execution_count": null,
      "outputs": []
    },
    {
      "cell_type": "code",
      "source": [
        "# Q9=> Write a Python function to calculate Z-scores from a dataset and plot them>\n",
        "\n",
        "\n",
        "def z_scores(data): return (data - np.mean(data)) / np.std(data)\n",
        "data = np.random.randn(1000); plt.hist(z_scores(data), bins=30); plt.show()\n",
        "\n",
        "\n"
      ],
      "metadata": {
        "id": "-7MDG3y4ZM2Q"
      },
      "execution_count": null,
      "outputs": []
    },
    {
      "cell_type": "code",
      "source": [
        "# Q10=> Implement the Central Limit Theorem (CLT) using Python for a non-normal distribution.\n",
        "\n",
        "\n",
        "samples = [np.mean(np.random.exponential(1, 30)) for _ in range(1000)]\n",
        "plt.hist(samples, bins=30, density=True); plt.show()\n",
        "\n"
      ],
      "metadata": {
        "id": "m1L9CBBHZLOO"
      },
      "execution_count": null,
      "outputs": []
    },
    {
      "cell_type": "code",
      "source": [
        "# Q11=> Simulate multiple samples from a normal distribution and verify the Central Limit Theorem5\n",
        "\n",
        "\n",
        "samples = [np.mean(np.random.normal(5, 2, 30)) for _ in range(1000)]\n",
        "plt.hist(samples, bins=30, density=True); plt.show()\n",
        "\n",
        "\n"
      ],
      "metadata": {
        "id": "1rCLoxIEZJFg"
      },
      "execution_count": null,
      "outputs": []
    },
    {
      "cell_type": "code",
      "source": [
        "\n",
        "# Q12=> Write a Python function to calculate and plot the standard normal distribution (mean = 0, std = 1)5\n",
        "\n",
        "x = np.linspace(-4, 4, 100); plt.plot(x, stats.norm.pdf(x, 0, 1)); plt.show()\n",
        "\n"
      ],
      "metadata": {
        "id": "oweIMQ53ZHL6"
      },
      "execution_count": null,
      "outputs": []
    },
    {
      "cell_type": "code",
      "source": [
        "\n",
        "# Q13=> Generate random variables and calculate their corresponding probabilities using the binomial distribution5\n",
        "\n",
        "binom_probs = stats.binom.pmf(range(11), 10, 0.5)\n",
        "plt.bar(range(11), binom_probs); plt.show()\n"
      ],
      "metadata": {
        "id": "6LFfkhX5ZFOd"
      },
      "execution_count": null,
      "outputs": []
    },
    {
      "cell_type": "code",
      "source": [
        "\n",
        "# Q14=> Write a Python program to calculate the Z-score for a given data point and compare it to a standard normal\n",
        "# distribution5\n",
        "\n",
        "\n",
        "x, mean, std = 1.5, 0, 1\n",
        "z = (x - mean) / std; print(f\"Z-score: {z}, P-value: {stats.norm.cdf(z)}\")\n",
        "\n",
        "\n",
        "\n"
      ],
      "metadata": {
        "id": "2-Zt2Iy0ZDTq"
      },
      "execution_count": null,
      "outputs": []
    },
    {
      "cell_type": "code",
      "source": [
        "# Q15=> Implement hypothesis testing using Z-statistics for a sample dataset5\n",
        "\n",
        "sample = np.random.normal(100, 15, 30)\n",
        "z = (np.mean(sample) - 100) / (15 / np.sqrt(len(sample)))\n",
        "print(f\"Z-score: {z}, p-value: {2 * (1 - stats.norm.cdf(abs(z)))}\")\n",
        "\n"
      ],
      "metadata": {
        "id": "QLMKKJCqZBcg"
      },
      "execution_count": null,
      "outputs": []
    },
    {
      "cell_type": "code",
      "source": [
        "\n",
        "# Q16=> Create a confidence interval for a dataset using Python and interpret the result5\n",
        "\n",
        "\n",
        "sample = np.random.normal(50, 10, 100)\n",
        "ci = stats.norm.interval(0.95, loc=np.mean(sample), scale=np.std(sample)/np.sqrt(len(sample)))\n",
        "print(f\"95% CI: {ci}\")\n",
        "\n",
        "\n"
      ],
      "metadata": {
        "id": "M9DhkaCtY72W"
      },
      "execution_count": null,
      "outputs": []
    },
    {
      "cell_type": "code",
      "source": [
        "\n",
        "# Q17=> Generate data from a normal distribution, then calculate and interpret the confidence interval for its mean5\n",
        "\n",
        "sample = np.random.normal(10, 2, 100)\n",
        "ci = stats.norm.interval(0.95, np.mean(sample), np.std(sample)/np.sqrt(len(sample)))\n",
        "print(f\"95% CI: {ci}\")\n",
        "\n"
      ],
      "metadata": {
        "id": "9es-ZDLoY59x"
      },
      "execution_count": null,
      "outputs": []
    },
    {
      "cell_type": "code",
      "source": [
        "# Q18=> Write a Python script to calculate and visualize the probability density function (PDF) of a normal distribution5\n",
        "\n",
        "x = np.linspace(-4, 4, 100)\n",
        "plt.plot(x, stats.norm.pdf(x, 0, 1)); plt.show()\n",
        "\n",
        "\n"
      ],
      "metadata": {
        "id": "ODLadnPQY4Ms"
      },
      "execution_count": null,
      "outputs": []
    },
    {
      "cell_type": "code",
      "source": [
        "# Q19=> Use Python to calculate and interpret the cumulative distribution function (CDF) of a Poisson distribution5\n",
        "\n",
        "poisson_cdf = stats.poisson.cdf(range(10), mu=3)\n",
        "plt.step(range(10), poisson_cdf); plt.show()\n",
        "\n"
      ],
      "metadata": {
        "id": "9slW9YCfY2Ik"
      },
      "execution_count": null,
      "outputs": []
    },
    {
      "cell_type": "code",
      "source": [
        "# Q20=> Simulate a random variable using a continuous uniform distribution and calculate its expected value5\n",
        "\n",
        "data = np.random.uniform(1, 5, 1000)\n",
        "print(f\"Expected value: {np.mean(data)}\")\n",
        "\n",
        "\n"
      ],
      "metadata": {
        "id": "lKsOhWTgYzvf"
      },
      "execution_count": null,
      "outputs": []
    },
    {
      "cell_type": "code",
      "source": [
        "\n",
        "# Q21=> Write a Python program to compare the standard deviations of two datasets and visualize the difference5\n",
        "\n",
        "data1, data2 = np.random.normal(10, 2, 1000), np.random.normal(10, 5, 1000)\n",
        "plt.hist(data1, alpha=0.5, label=\"Std=2\"); plt.hist(data2, alpha=0.5, label=\"Std=5\"); plt.legend(); plt.show()\n",
        "\n",
        "\n"
      ],
      "metadata": {
        "id": "-jxT0iGuYx6g"
      },
      "execution_count": null,
      "outputs": []
    },
    {
      "cell_type": "code",
      "source": [
        "\n",
        "# Q22=> Calculate the range and interquartile range (IQR) of a dataset generated from a normal distribution5\n",
        "\n",
        "data = np.random.normal(50, 15, 1000)\n",
        "iqr = np.percentile(data, 75) - np.percentile(data, 25)\n",
        "print(f\"Range: {np.ptp(data)}, IQR: {iqr}\")\n"
      ],
      "metadata": {
        "id": "_6ji5G_bYwAs"
      },
      "execution_count": null,
      "outputs": []
    },
    {
      "cell_type": "code",
      "source": [
        "# Q23=> Implement Z-score normalization on a dataset and visualize its transformation5\n",
        "\n",
        "data = np.random.normal(100, 20, 1000)\n",
        "normalized_data = z_scores(data)\n",
        "plt.hist(normalized_data, bins=30); plt.show()\n"
      ],
      "metadata": {
        "id": "ZZwHYhIzYuGO"
      },
      "execution_count": null,
      "outputs": []
    },
    {
      "cell_type": "code",
      "source": [
        "\n",
        "\n",
        "# Q24=> Write a Python function to calculate the skewness and kurtosis of a dataset generated from a normal\n",
        "# distribution\n",
        "\n",
        "from scipy.stats import skew, kurtosis\n",
        "data = np.random.normal(0, 1, 1000)\n",
        "print(f\"Skewness: {skew(data)}, Kurtosis: {kurtosis(data)}\")\n"
      ],
      "metadata": {
        "id": "wQWAfEBSYrky"
      },
      "execution_count": null,
      "outputs": []
    }
  ]
}